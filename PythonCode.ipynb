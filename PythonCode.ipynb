{
 "cells": [
  {
   "cell_type": "code",
   "execution_count": null,
   "metadata": {},
   "outputs": [
    {
     "name": "stdout",
     "output_type": "stream",
     "text": [
      "1\n",
      "3\n",
      "5\n",
      "7\n",
      "9\n"
     ]
    }
   ],
   "source": [
    "for i in range(10):\n",
    "    if i % 2 != 0:\n",
    "     print(i)\n",
    "    "
   ]
  },
  {
   "cell_type": "code",
   "execution_count": 11,
   "metadata": {},
   "outputs": [
    {
     "name": "stdout",
     "output_type": "stream",
     "text": [
      "1\n",
      "2\n",
      "3\n",
      "5\n",
      "8\n",
      "13\n",
      "21\n",
      "34\n"
     ]
    }
   ],
   "source": [
    "# Fibonacci series\n",
    "a=0\n",
    "b=1\n",
    "c=0\n",
    "#for i in range(50):     \n",
    "while a+b<=50:    \n",
    "    c=a+b\n",
    "    print(c)\n",
    "    a=b\n",
    "    b=c\n",
    "    "
   ]
  },
  {
   "cell_type": "code",
   "execution_count": null,
   "metadata": {},
   "outputs": [
    {
     "name": "stdout",
     "output_type": "stream",
     "text": [
      "[0, 1, 1, 2, 3, 5, 8, 13, 21, 34]\n"
     ]
    }
   ],
   "source": [
    "#Sequence\n",
    "a=0\n",
    "b=1\n",
    "c=0\n",
    "fib=[a,b]\n",
    "#for i in range(50):     \n",
    "while a+b<=50:    \n",
    "    c=a+b    \n",
    "    a=b\n",
    "    b=c\n",
    "    fib.append(c)\n",
    "print(fib)"
   ]
  },
  {
   "cell_type": "code",
   "execution_count": null,
   "metadata": {},
   "outputs": [
    {
     "name": "stdout",
     "output_type": "stream",
     "text": [
      "2\n",
      "7\n",
      "11\n",
      "15\n"
     ]
    }
   ],
   "source": [
    "#Two sum\n",
    "num=[2,7,11,15] \n",
    "tar=[9]\n",
    "for i in num:\n",
    "    print(i)\n",
    "    a=num[i]\n",
    "    a=a+\n",
    "\n"
   ]
  },
  {
   "cell_type": "code",
   "execution_count": 62,
   "metadata": {},
   "outputs": [
    {
     "name": "stdout",
     "output_type": "stream",
     "text": [
      "True\n"
     ]
    }
   ],
   "source": [
    "#Palindrome\n",
    "def palcheck(a):\n",
    "    num=0\n",
    "    while a/10>0:\n",
    "     num= num * 10 + ( a%10)\n",
    "     a=round(a/10)   \n",
    "    return num\n",
    "\n",
    "a=123454321\n",
    "print(a==palcheck(a))\n",
    "   "
   ]
  },
  {
   "cell_type": "code",
   "execution_count": 75,
   "metadata": {},
   "outputs": [
    {
     "name": "stdout",
     "output_type": "stream",
     "text": [
      "120\n"
     ]
    }
   ],
   "source": [
    "#Factorial\n",
    "a=5\n",
    "b=1\n",
    "for i in range(a):\n",
    "    b=(a-i)*b\n",
    "    #print(b)\n",
    "print(b)"
   ]
  },
  {
   "cell_type": "code",
   "execution_count": 86,
   "metadata": {},
   "outputs": [
    {
     "name": "stdout",
     "output_type": "stream",
     "text": [
      "2\n",
      "40\n",
      "96\n",
      "1100\n",
      "5454\n",
      "5454\n"
     ]
    }
   ],
   "source": [
    "#Find the Max number:\n",
    "listofnumbers=[-8,2,40,5,96,1100,0.1,-1,5454]\n",
    "#listofnumbers = [2,40]\n",
    "max=listofnumbers[0]\n",
    "for number in listofnumbers:\n",
    "    if max < number:\n",
    "        max=number\n",
    "        print(max)\n",
    "print(max)        \n",
    "      \n",
    "\n",
    "    \n"
   ]
  },
  {
   "cell_type": "code",
   "execution_count": 107,
   "metadata": {},
   "outputs": [
    {
     "name": "stdout",
     "output_type": "stream",
     "text": [
      "9\n"
     ]
    }
   ],
   "source": [
    "#Vowels count in a string\n",
    "string=\"my name is sidd aeiou\"\n",
    "vowels=\"aeiou\"\n",
    "count=0\n",
    "for letter in string:\n",
    "   # print(letter)\n",
    "    if letter in vowels:\n",
    "        count=count+1 \n",
    "\n",
    "print(count)     "
   ]
  },
  {
   "cell_type": "code",
   "execution_count": null,
   "metadata": {},
   "outputs": [],
   "source": [
    "#Prime number \n",
    "for i in range(2,11):\n",
    "    for j in range(2,11):\n",
    "        if i%j==0:\n",
    "            "
   ]
  },
  {
   "cell_type": "code",
   "execution_count": 7,
   "metadata": {},
   "outputs": [
    {
     "name": "stdout",
     "output_type": "stream",
     "text": [
      "4\n"
     ]
    }
   ],
   "source": [
    "a='12120'\n",
    "b=[1,1,1,1]\n",
    "print(len(b))"
   ]
  },
  {
   "cell_type": "code",
   "execution_count": 1,
   "metadata": {},
   "outputs": [
    {
     "name": "stdout",
     "output_type": "stream",
     "text": [
      "The answer is: 10.0\n"
     ]
    }
   ],
   "source": [
    "# Problem Statement: Simple Calculator\n",
    "# Objective:\n",
    "while True:\n",
    "    try:\n",
    "        a = float(input('Enter the First number: '))\n",
    "\n",
    "        break  # break out of the loop if input is successfully converted to float\n",
    "    except ValueError:\n",
    "        print('Please enter a valid number.')\n",
    "\n",
    "while True:\n",
    "    try:\n",
    "        b = float(input('Enter the Second number: '))\n",
    "        break  # break out of the loop if input is successfully converted to float\n",
    "    except ValueError:\n",
    "        print('Please enter a valid number.')\n",
    "\n",
    "a = float(a)\n",
    "b = float(b)\n",
    "\n",
    "c = input('Select the operation: +, -, *, / : ')\n",
    "\n",
    "if c == '+':\n",
    "    print('The answer is:', a + b)\n",
    "elif c == '-':\n",
    "    print('The answer is:', a - b)\n",
    "elif c == '/':\n",
    "    if b == 0:\n",
    "        print(\"Error: Division by zero\")\n",
    "    else:\n",
    "        print('The answer is:', a / b)\n",
    "elif c == '*':\n",
    "    print('The answer is:', a * b)\n",
    "else:\n",
    "    print('Invalid operation selected.')"
   ]
  }
 ],
 "metadata": {
  "kernelspec": {
   "display_name": "Python 3",
   "language": "python",
   "name": "python3"
  },
  "language_info": {
   "codemirror_mode": {
    "name": "ipython",
    "version": 3
   },
   "file_extension": ".py",
   "mimetype": "text/x-python",
   "name": "python",
   "nbconvert_exporter": "python",
   "pygments_lexer": "ipython3",
   "version": "3.9.7"
  }
 },
 "nbformat": 4,
 "nbformat_minor": 2
}
